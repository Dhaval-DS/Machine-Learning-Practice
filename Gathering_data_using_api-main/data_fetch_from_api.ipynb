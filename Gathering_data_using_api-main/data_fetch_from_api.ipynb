{
 "cells": [
  {
   "cell_type": "markdown",
   "id": "069fb586-d235-46ff-880d-9647f253c715",
   "metadata": {},
   "source": [
    "# Import the important libraries"
   ]
  },
  {
   "cell_type": "code",
   "execution_count": 121,
   "id": "41385b4d-634c-46ef-b242-61d0a3c05c7a",
   "metadata": {},
   "outputs": [],
   "source": [
    "import requests\n",
    "import pandas as pd"
   ]
  },
  {
   "cell_type": "markdown",
   "id": "ddbe6cb5-327f-4903-b1c3-507102bca689",
   "metadata": {},
   "source": [
    "# Getting top rated movie data data from the tmdb api"
   ]
  },
  {
   "cell_type": "code",
   "execution_count": 123,
   "id": "c6ab275d-04cd-4be4-aecd-fd1a27e3d4af",
   "metadata": {},
   "outputs": [],
   "source": [
    "response = requests.get( \"https://api.themoviedb.org/3/tv/top_rated?api_key=60c4ab909551a9d2576704a66111e691&&language=en-US&page=1\")"
   ]
  },
  {
   "cell_type": "markdown",
   "id": "09a010bb-62d2-4061-9204-5dbbcfee7721",
   "metadata": {},
   "source": [
    "# Converted into dataframes and also fetched the coloumns we want"
   ]
  },
  {
   "cell_type": "code",
   "execution_count": 125,
   "id": "fb249109-babe-4667-b5bb-9fdea92543f4",
   "metadata": {},
   "outputs": [],
   "source": [
    "temp_df=pd.DataFrame(response.json()['results'])[['id','name','origin_country','overview','popularity','vote_average','vote_count']]"
   ]
  },
  {
   "cell_type": "code",
   "execution_count": 127,
   "id": "5e1a1001-a2c3-4dca-a5e0-d2bda46d4dec",
   "metadata": {},
   "outputs": [
    {
     "data": {
      "text/html": [
       "<div>\n",
       "<style scoped>\n",
       "    .dataframe tbody tr th:only-of-type {\n",
       "        vertical-align: middle;\n",
       "    }\n",
       "\n",
       "    .dataframe tbody tr th {\n",
       "        vertical-align: top;\n",
       "    }\n",
       "\n",
       "    .dataframe thead th {\n",
       "        text-align: right;\n",
       "    }\n",
       "</style>\n",
       "<table border=\"1\" class=\"dataframe\">\n",
       "  <thead>\n",
       "    <tr style=\"text-align: right;\">\n",
       "      <th></th>\n",
       "      <th>id</th>\n",
       "      <th>name</th>\n",
       "      <th>origin_country</th>\n",
       "      <th>overview</th>\n",
       "      <th>popularity</th>\n",
       "      <th>vote_average</th>\n",
       "      <th>vote_count</th>\n",
       "    </tr>\n",
       "  </thead>\n",
       "  <tbody>\n",
       "    <tr>\n",
       "      <th>0</th>\n",
       "      <td>1396</td>\n",
       "      <td>Breaking Bad</td>\n",
       "      <td>[US]</td>\n",
       "      <td>Walter White, a New Mexico chemistry teacher, ...</td>\n",
       "      <td>109.3412</td>\n",
       "      <td>8.920</td>\n",
       "      <td>15967</td>\n",
       "    </tr>\n",
       "    <tr>\n",
       "      <th>1</th>\n",
       "      <td>94605</td>\n",
       "      <td>Arcane</td>\n",
       "      <td>[US]</td>\n",
       "      <td>Amid the stark discord of twin cities Piltover...</td>\n",
       "      <td>21.9011</td>\n",
       "      <td>8.762</td>\n",
       "      <td>5312</td>\n",
       "    </tr>\n",
       "    <tr>\n",
       "      <th>2</th>\n",
       "      <td>219246</td>\n",
       "      <td>When Life Gives You Tangerines</td>\n",
       "      <td>[KR]</td>\n",
       "      <td>In Jeju, a spirited girl and a steadfast boy's...</td>\n",
       "      <td>26.0474</td>\n",
       "      <td>8.800</td>\n",
       "      <td>375</td>\n",
       "    </tr>\n",
       "    <tr>\n",
       "      <th>3</th>\n",
       "      <td>246</td>\n",
       "      <td>Avatar: The Last Airbender</td>\n",
       "      <td>[US]</td>\n",
       "      <td>In a war-torn world of elemental magic, a youn...</td>\n",
       "      <td>14.0038</td>\n",
       "      <td>8.756</td>\n",
       "      <td>4450</td>\n",
       "    </tr>\n",
       "    <tr>\n",
       "      <th>4</th>\n",
       "      <td>209867</td>\n",
       "      <td>Frieren: Beyond Journey's End</td>\n",
       "      <td>[JP]</td>\n",
       "      <td>Decades after her party defeated the Demon Kin...</td>\n",
       "      <td>28.2580</td>\n",
       "      <td>8.739</td>\n",
       "      <td>502</td>\n",
       "    </tr>\n",
       "  </tbody>\n",
       "</table>\n",
       "</div>"
      ],
      "text/plain": [
       "       id                            name origin_country  \\\n",
       "0    1396                    Breaking Bad           [US]   \n",
       "1   94605                          Arcane           [US]   \n",
       "2  219246  When Life Gives You Tangerines           [KR]   \n",
       "3     246      Avatar: The Last Airbender           [US]   \n",
       "4  209867   Frieren: Beyond Journey's End           [JP]   \n",
       "\n",
       "                                            overview  popularity  \\\n",
       "0  Walter White, a New Mexico chemistry teacher, ...    109.3412   \n",
       "1  Amid the stark discord of twin cities Piltover...     21.9011   \n",
       "2  In Jeju, a spirited girl and a steadfast boy's...     26.0474   \n",
       "3  In a war-torn world of elemental magic, a youn...     14.0038   \n",
       "4  Decades after her party defeated the Demon Kin...     28.2580   \n",
       "\n",
       "   vote_average  vote_count  \n",
       "0         8.920       15967  \n",
       "1         8.762        5312  \n",
       "2         8.800         375  \n",
       "3         8.756        4450  \n",
       "4         8.739         502  "
      ]
     },
     "execution_count": 127,
     "metadata": {},
     "output_type": "execute_result"
    }
   ],
   "source": [
    "temp_df.head()"
   ]
  },
  {
   "cell_type": "markdown",
   "id": "003af95b-9d37-4b9f-ab01-48b7cb4beefc",
   "metadata": {},
   "source": [
    "# Create empty list and then use loop to append every page data into that list and using pd.concat we will combine list of dataframes into one dataset"
   ]
  },
  {
   "cell_type": "code",
   "execution_count": 129,
   "id": "7e3528a8-65af-41ae-b6e0-24b218892636",
   "metadata": {},
   "outputs": [],
   "source": [
    "dataframes_list=[]"
   ]
  },
  {
   "cell_type": "code",
   "execution_count": 131,
   "id": "d4cd1da7-a555-4261-a2a4-4d3bac510f3c",
   "metadata": {},
   "outputs": [],
   "source": [
    "for i in range(1,114):\n",
    "    response = requests.get( \"https://api.themoviedb.org/3/tv/top_rated?api_key=60c4ab909551a9d2576704a66111e691&&language=en-US&page={}\".format(i))\n",
    "    temp_df=pd.DataFrame(response.json()['results'])[['id','name','origin_country','overview','popularity','vote_average','vote_count']]\n",
    "    dataframes_list.append(temp_df)\n",
    "df=pd.concat(dataframes_list,ignore_index=True)\n"
   ]
  },
  {
   "cell_type": "code",
   "execution_count": 132,
   "id": "f3cfc0a0-e85c-4e6e-b995-f73790267f4c",
   "metadata": {},
   "outputs": [
    {
     "data": {
      "text/html": [
       "<div>\n",
       "<style scoped>\n",
       "    .dataframe tbody tr th:only-of-type {\n",
       "        vertical-align: middle;\n",
       "    }\n",
       "\n",
       "    .dataframe tbody tr th {\n",
       "        vertical-align: top;\n",
       "    }\n",
       "\n",
       "    .dataframe thead th {\n",
       "        text-align: right;\n",
       "    }\n",
       "</style>\n",
       "<table border=\"1\" class=\"dataframe\">\n",
       "  <thead>\n",
       "    <tr style=\"text-align: right;\">\n",
       "      <th></th>\n",
       "      <th>id</th>\n",
       "      <th>name</th>\n",
       "      <th>origin_country</th>\n",
       "      <th>overview</th>\n",
       "      <th>popularity</th>\n",
       "      <th>vote_average</th>\n",
       "      <th>vote_count</th>\n",
       "    </tr>\n",
       "  </thead>\n",
       "  <tbody>\n",
       "    <tr>\n",
       "      <th>0</th>\n",
       "      <td>1396</td>\n",
       "      <td>Breaking Bad</td>\n",
       "      <td>[US]</td>\n",
       "      <td>Walter White, a New Mexico chemistry teacher, ...</td>\n",
       "      <td>109.3412</td>\n",
       "      <td>8.920</td>\n",
       "      <td>15967</td>\n",
       "    </tr>\n",
       "    <tr>\n",
       "      <th>1</th>\n",
       "      <td>94605</td>\n",
       "      <td>Arcane</td>\n",
       "      <td>[US]</td>\n",
       "      <td>Amid the stark discord of twin cities Piltover...</td>\n",
       "      <td>21.9011</td>\n",
       "      <td>8.762</td>\n",
       "      <td>5312</td>\n",
       "    </tr>\n",
       "    <tr>\n",
       "      <th>2</th>\n",
       "      <td>219246</td>\n",
       "      <td>When Life Gives You Tangerines</td>\n",
       "      <td>[KR]</td>\n",
       "      <td>In Jeju, a spirited girl and a steadfast boy's...</td>\n",
       "      <td>26.0474</td>\n",
       "      <td>8.800</td>\n",
       "      <td>375</td>\n",
       "    </tr>\n",
       "    <tr>\n",
       "      <th>3</th>\n",
       "      <td>246</td>\n",
       "      <td>Avatar: The Last Airbender</td>\n",
       "      <td>[US]</td>\n",
       "      <td>In a war-torn world of elemental magic, a youn...</td>\n",
       "      <td>14.0038</td>\n",
       "      <td>8.756</td>\n",
       "      <td>4450</td>\n",
       "    </tr>\n",
       "    <tr>\n",
       "      <th>4</th>\n",
       "      <td>209867</td>\n",
       "      <td>Frieren: Beyond Journey's End</td>\n",
       "      <td>[JP]</td>\n",
       "      <td>Decades after her party defeated the Demon Kin...</td>\n",
       "      <td>28.2580</td>\n",
       "      <td>8.739</td>\n",
       "      <td>502</td>\n",
       "    </tr>\n",
       "    <tr>\n",
       "      <th>...</th>\n",
       "      <td>...</td>\n",
       "      <td>...</td>\n",
       "      <td>...</td>\n",
       "      <td>...</td>\n",
       "      <td>...</td>\n",
       "      <td>...</td>\n",
       "      <td>...</td>\n",
       "    </tr>\n",
       "    <tr>\n",
       "      <th>2251</th>\n",
       "      <td>135251</td>\n",
       "      <td>The Idol</td>\n",
       "      <td>[US]</td>\n",
       "      <td>After a nervous breakdown derailed Jocelyn's l...</td>\n",
       "      <td>4.7711</td>\n",
       "      <td>5.384</td>\n",
       "      <td>271</td>\n",
       "    </tr>\n",
       "    <tr>\n",
       "      <th>2252</th>\n",
       "      <td>10160</td>\n",
       "      <td>Big Brother</td>\n",
       "      <td>[US]</td>\n",
       "      <td>American version of the reality game show whic...</td>\n",
       "      <td>20.1945</td>\n",
       "      <td>5.000</td>\n",
       "      <td>250</td>\n",
       "    </tr>\n",
       "    <tr>\n",
       "      <th>2253</th>\n",
       "      <td>130392</td>\n",
       "      <td>The D'Amelio Show</td>\n",
       "      <td>[US]</td>\n",
       "      <td>From relative obscurity and a seemingly normal...</td>\n",
       "      <td>2.7287</td>\n",
       "      <td>5.000</td>\n",
       "      <td>681</td>\n",
       "    </tr>\n",
       "    <tr>\n",
       "      <th>2254</th>\n",
       "      <td>1871</td>\n",
       "      <td>EastEnders</td>\n",
       "      <td>[GB]</td>\n",
       "      <td>The everyday lives of working-class residents ...</td>\n",
       "      <td>23.7685</td>\n",
       "      <td>4.200</td>\n",
       "      <td>214</td>\n",
       "    </tr>\n",
       "    <tr>\n",
       "      <th>2255</th>\n",
       "      <td>126725</td>\n",
       "      <td>Velma</td>\n",
       "      <td>[US]</td>\n",
       "      <td>Jinkies! This raucous reimagining of the Scoob...</td>\n",
       "      <td>5.6038</td>\n",
       "      <td>3.447</td>\n",
       "      <td>309</td>\n",
       "    </tr>\n",
       "  </tbody>\n",
       "</table>\n",
       "<p>2256 rows × 7 columns</p>\n",
       "</div>"
      ],
      "text/plain": [
       "          id                            name origin_country  \\\n",
       "0       1396                    Breaking Bad           [US]   \n",
       "1      94605                          Arcane           [US]   \n",
       "2     219246  When Life Gives You Tangerines           [KR]   \n",
       "3        246      Avatar: The Last Airbender           [US]   \n",
       "4     209867   Frieren: Beyond Journey's End           [JP]   \n",
       "...      ...                             ...            ...   \n",
       "2251  135251                        The Idol           [US]   \n",
       "2252   10160                     Big Brother           [US]   \n",
       "2253  130392               The D'Amelio Show           [US]   \n",
       "2254    1871                      EastEnders           [GB]   \n",
       "2255  126725                           Velma           [US]   \n",
       "\n",
       "                                               overview  popularity  \\\n",
       "0     Walter White, a New Mexico chemistry teacher, ...    109.3412   \n",
       "1     Amid the stark discord of twin cities Piltover...     21.9011   \n",
       "2     In Jeju, a spirited girl and a steadfast boy's...     26.0474   \n",
       "3     In a war-torn world of elemental magic, a youn...     14.0038   \n",
       "4     Decades after her party defeated the Demon Kin...     28.2580   \n",
       "...                                                 ...         ...   \n",
       "2251  After a nervous breakdown derailed Jocelyn's l...      4.7711   \n",
       "2252  American version of the reality game show whic...     20.1945   \n",
       "2253  From relative obscurity and a seemingly normal...      2.7287   \n",
       "2254  The everyday lives of working-class residents ...     23.7685   \n",
       "2255  Jinkies! This raucous reimagining of the Scoob...      5.6038   \n",
       "\n",
       "      vote_average  vote_count  \n",
       "0            8.920       15967  \n",
       "1            8.762        5312  \n",
       "2            8.800         375  \n",
       "3            8.756        4450  \n",
       "4            8.739         502  \n",
       "...            ...         ...  \n",
       "2251         5.384         271  \n",
       "2252         5.000         250  \n",
       "2253         5.000         681  \n",
       "2254         4.200         214  \n",
       "2255         3.447         309  \n",
       "\n",
       "[2256 rows x 7 columns]"
      ]
     },
     "execution_count": 132,
     "metadata": {},
     "output_type": "execute_result"
    }
   ],
   "source": [
    "df"
   ]
  },
  {
   "cell_type": "code",
   "execution_count": 133,
   "id": "89aae6a0-c698-491d-9668-f14c79abf624",
   "metadata": {},
   "outputs": [
    {
     "data": {
      "text/plain": [
       "(2256, 7)"
      ]
     },
     "execution_count": 133,
     "metadata": {},
     "output_type": "execute_result"
    }
   ],
   "source": [
    "df.shape"
   ]
  },
  {
   "cell_type": "code",
   "execution_count": 137,
   "id": "ea33474a-3c9e-47d9-a2a4-eba44e26413a",
   "metadata": {},
   "outputs": [],
   "source": [
    "df.to_csv('top_rated_movies.csv')"
   ]
  },
  {
   "cell_type": "code",
   "execution_count": null,
   "id": "d33bcb96-ee52-4bfe-a25c-ac44b6847c0b",
   "metadata": {},
   "outputs": [],
   "source": []
  }
 ],
 "metadata": {
  "kernelspec": {
   "display_name": "Python [conda env:base] *",
   "language": "python",
   "name": "conda-base-py"
  },
  "language_info": {
   "codemirror_mode": {
    "name": "ipython",
    "version": 3
   },
   "file_extension": ".py",
   "mimetype": "text/x-python",
   "name": "python",
   "nbconvert_exporter": "python",
   "pygments_lexer": "ipython3",
   "version": "3.12.7"
  }
 },
 "nbformat": 4,
 "nbformat_minor": 5
}
