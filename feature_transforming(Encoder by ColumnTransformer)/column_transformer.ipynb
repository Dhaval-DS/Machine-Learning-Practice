{
 "cells": [
  {
   "cell_type": "code",
   "execution_count": 2,
   "id": "401cbd04-136d-4143-955f-753291245c8a",
   "metadata": {},
   "outputs": [],
   "source": [
    "import numpy as np\n",
    "import pandas as pd"
   ]
  },
  {
   "cell_type": "code",
   "execution_count": 10,
   "id": "0b20be0e-1649-467c-b0a0-a0071a5b1fc4",
   "metadata": {},
   "outputs": [],
   "source": [
    "from sklearn.impute import SimpleImputer\n",
    "from sklearn.preprocessing import OneHotEncoder\n",
    "from sklearn.preprocessing import OrdinalEncoder"
   ]
  },
  {
   "cell_type": "code",
   "execution_count": 12,
   "id": "0325479d-74a3-462f-8133-26a6784f80d3",
   "metadata": {},
   "outputs": [],
   "source": [
    "df=pd.read_csv('covid_toy.csv')"
   ]
  },
  {
   "cell_type": "code",
   "execution_count": 14,
   "id": "16bce746-a0ca-43ab-b041-37632880536b",
   "metadata": {},
   "outputs": [
    {
     "data": {
      "text/html": [
       "<div>\n",
       "<style scoped>\n",
       "    .dataframe tbody tr th:only-of-type {\n",
       "        vertical-align: middle;\n",
       "    }\n",
       "\n",
       "    .dataframe tbody tr th {\n",
       "        vertical-align: top;\n",
       "    }\n",
       "\n",
       "    .dataframe thead th {\n",
       "        text-align: right;\n",
       "    }\n",
       "</style>\n",
       "<table border=\"1\" class=\"dataframe\">\n",
       "  <thead>\n",
       "    <tr style=\"text-align: right;\">\n",
       "      <th></th>\n",
       "      <th>age</th>\n",
       "      <th>gender</th>\n",
       "      <th>fever</th>\n",
       "      <th>cough</th>\n",
       "      <th>city</th>\n",
       "      <th>has_covid</th>\n",
       "    </tr>\n",
       "  </thead>\n",
       "  <tbody>\n",
       "    <tr>\n",
       "      <th>0</th>\n",
       "      <td>60</td>\n",
       "      <td>Male</td>\n",
       "      <td>103.0</td>\n",
       "      <td>Mild</td>\n",
       "      <td>Kolkata</td>\n",
       "      <td>No</td>\n",
       "    </tr>\n",
       "    <tr>\n",
       "      <th>1</th>\n",
       "      <td>27</td>\n",
       "      <td>Male</td>\n",
       "      <td>100.0</td>\n",
       "      <td>Mild</td>\n",
       "      <td>Delhi</td>\n",
       "      <td>Yes</td>\n",
       "    </tr>\n",
       "    <tr>\n",
       "      <th>2</th>\n",
       "      <td>42</td>\n",
       "      <td>Male</td>\n",
       "      <td>101.0</td>\n",
       "      <td>Mild</td>\n",
       "      <td>Delhi</td>\n",
       "      <td>No</td>\n",
       "    </tr>\n",
       "    <tr>\n",
       "      <th>3</th>\n",
       "      <td>31</td>\n",
       "      <td>Female</td>\n",
       "      <td>98.0</td>\n",
       "      <td>Mild</td>\n",
       "      <td>Kolkata</td>\n",
       "      <td>No</td>\n",
       "    </tr>\n",
       "    <tr>\n",
       "      <th>4</th>\n",
       "      <td>65</td>\n",
       "      <td>Female</td>\n",
       "      <td>101.0</td>\n",
       "      <td>Mild</td>\n",
       "      <td>Mumbai</td>\n",
       "      <td>No</td>\n",
       "    </tr>\n",
       "  </tbody>\n",
       "</table>\n",
       "</div>"
      ],
      "text/plain": [
       "   age  gender  fever cough     city has_covid\n",
       "0   60    Male  103.0  Mild  Kolkata        No\n",
       "1   27    Male  100.0  Mild    Delhi       Yes\n",
       "2   42    Male  101.0  Mild    Delhi        No\n",
       "3   31  Female   98.0  Mild  Kolkata        No\n",
       "4   65  Female  101.0  Mild   Mumbai        No"
      ]
     },
     "execution_count": 14,
     "metadata": {},
     "output_type": "execute_result"
    }
   ],
   "source": [
    "df.head()"
   ]
  },
  {
   "cell_type": "code",
   "execution_count": 16,
   "id": "85483600-71af-491b-8b5a-ee4046768cf2",
   "metadata": {},
   "outputs": [
    {
     "data": {
      "text/plain": [
       "age           0\n",
       "gender        0\n",
       "fever        10\n",
       "cough         0\n",
       "city          0\n",
       "has_covid     0\n",
       "dtype: int64"
      ]
     },
     "execution_count": 16,
     "metadata": {},
     "output_type": "execute_result"
    }
   ],
   "source": [
    "df.isnull().sum()\n"
   ]
  },
  {
   "cell_type": "code",
   "execution_count": 22,
   "id": "8fb4b299-602e-44b5-abe5-f952958633b6",
   "metadata": {},
   "outputs": [],
   "source": [
    "from sklearn.model_selection import train_test_split\n",
    "X_train,X_test,y_train,y_test=train_test_split(df.drop(columns=['has_covid']),df['has_covid'],test_size=0.2)"
   ]
  },
  {
   "cell_type": "code",
   "execution_count": 24,
   "id": "a9ec9c0b-8639-4117-a4f8-258aa5d7fb13",
   "metadata": {},
   "outputs": [
    {
     "data": {
      "text/html": [
       "<div>\n",
       "<style scoped>\n",
       "    .dataframe tbody tr th:only-of-type {\n",
       "        vertical-align: middle;\n",
       "    }\n",
       "\n",
       "    .dataframe tbody tr th {\n",
       "        vertical-align: top;\n",
       "    }\n",
       "\n",
       "    .dataframe thead th {\n",
       "        text-align: right;\n",
       "    }\n",
       "</style>\n",
       "<table border=\"1\" class=\"dataframe\">\n",
       "  <thead>\n",
       "    <tr style=\"text-align: right;\">\n",
       "      <th></th>\n",
       "      <th>age</th>\n",
       "      <th>gender</th>\n",
       "      <th>fever</th>\n",
       "      <th>cough</th>\n",
       "      <th>city</th>\n",
       "    </tr>\n",
       "  </thead>\n",
       "  <tbody>\n",
       "    <tr>\n",
       "      <th>31</th>\n",
       "      <td>83</td>\n",
       "      <td>Male</td>\n",
       "      <td>103.0</td>\n",
       "      <td>Mild</td>\n",
       "      <td>Kolkata</td>\n",
       "    </tr>\n",
       "    <tr>\n",
       "      <th>5</th>\n",
       "      <td>84</td>\n",
       "      <td>Female</td>\n",
       "      <td>NaN</td>\n",
       "      <td>Mild</td>\n",
       "      <td>Bangalore</td>\n",
       "    </tr>\n",
       "    <tr>\n",
       "      <th>93</th>\n",
       "      <td>27</td>\n",
       "      <td>Male</td>\n",
       "      <td>100.0</td>\n",
       "      <td>Mild</td>\n",
       "      <td>Kolkata</td>\n",
       "    </tr>\n",
       "    <tr>\n",
       "      <th>59</th>\n",
       "      <td>6</td>\n",
       "      <td>Female</td>\n",
       "      <td>104.0</td>\n",
       "      <td>Mild</td>\n",
       "      <td>Kolkata</td>\n",
       "    </tr>\n",
       "    <tr>\n",
       "      <th>81</th>\n",
       "      <td>65</td>\n",
       "      <td>Male</td>\n",
       "      <td>99.0</td>\n",
       "      <td>Mild</td>\n",
       "      <td>Delhi</td>\n",
       "    </tr>\n",
       "    <tr>\n",
       "      <th>...</th>\n",
       "      <td>...</td>\n",
       "      <td>...</td>\n",
       "      <td>...</td>\n",
       "      <td>...</td>\n",
       "      <td>...</td>\n",
       "    </tr>\n",
       "    <tr>\n",
       "      <th>18</th>\n",
       "      <td>64</td>\n",
       "      <td>Female</td>\n",
       "      <td>98.0</td>\n",
       "      <td>Mild</td>\n",
       "      <td>Bangalore</td>\n",
       "    </tr>\n",
       "    <tr>\n",
       "      <th>30</th>\n",
       "      <td>15</td>\n",
       "      <td>Male</td>\n",
       "      <td>101.0</td>\n",
       "      <td>Mild</td>\n",
       "      <td>Delhi</td>\n",
       "    </tr>\n",
       "    <tr>\n",
       "      <th>55</th>\n",
       "      <td>81</td>\n",
       "      <td>Female</td>\n",
       "      <td>101.0</td>\n",
       "      <td>Mild</td>\n",
       "      <td>Mumbai</td>\n",
       "    </tr>\n",
       "    <tr>\n",
       "      <th>25</th>\n",
       "      <td>23</td>\n",
       "      <td>Male</td>\n",
       "      <td>NaN</td>\n",
       "      <td>Mild</td>\n",
       "      <td>Mumbai</td>\n",
       "    </tr>\n",
       "    <tr>\n",
       "      <th>52</th>\n",
       "      <td>47</td>\n",
       "      <td>Female</td>\n",
       "      <td>100.0</td>\n",
       "      <td>Strong</td>\n",
       "      <td>Bangalore</td>\n",
       "    </tr>\n",
       "  </tbody>\n",
       "</table>\n",
       "<p>80 rows × 5 columns</p>\n",
       "</div>"
      ],
      "text/plain": [
       "    age  gender  fever   cough       city\n",
       "31   83    Male  103.0    Mild    Kolkata\n",
       "5    84  Female    NaN    Mild  Bangalore\n",
       "93   27    Male  100.0    Mild    Kolkata\n",
       "59    6  Female  104.0    Mild    Kolkata\n",
       "81   65    Male   99.0    Mild      Delhi\n",
       "..  ...     ...    ...     ...        ...\n",
       "18   64  Female   98.0    Mild  Bangalore\n",
       "30   15    Male  101.0    Mild      Delhi\n",
       "55   81  Female  101.0    Mild     Mumbai\n",
       "25   23    Male    NaN    Mild     Mumbai\n",
       "52   47  Female  100.0  Strong  Bangalore\n",
       "\n",
       "[80 rows x 5 columns]"
      ]
     },
     "execution_count": 24,
     "metadata": {},
     "output_type": "execute_result"
    }
   ],
   "source": [
    "X_train"
   ]
  },
  {
   "cell_type": "markdown",
   "id": "01d6e540-9536-4c5e-93ba-b71da51865b0",
   "metadata": {},
   "source": [
    "# Encoding Without using the columntransformer"
   ]
  },
  {
   "cell_type": "code",
   "execution_count": 33,
   "id": "dec23219-64e6-4195-9286-6c9afb7447e3",
   "metadata": {},
   "outputs": [
    {
     "data": {
      "text/plain": [
       "(80, 1)"
      ]
     },
     "execution_count": 33,
     "metadata": {},
     "output_type": "execute_result"
    }
   ],
   "source": [
    "#adding simple imputer to fever column\n",
    "si=SimpleImputer()\n",
    "X_train_fever=si.fit_transform(X_train[['fever']])\n",
    "\n",
    "#also the test data\n",
    "X_test_fever = si.fit_transform(X_test[['fever']])\n",
    "\n",
    "X_train_fever.shape"
   ]
  },
  {
   "cell_type": "code",
   "execution_count": 61,
   "id": "7256f694-e02e-47e0-a4c7-407eeb175ee8",
   "metadata": {},
   "outputs": [
    {
     "data": {
      "text/plain": [
       "(80, 1)"
      ]
     },
     "execution_count": 61,
     "metadata": {},
     "output_type": "execute_result"
    }
   ],
   "source": [
    "#ordinal encodinf->cough\n",
    "oe=OrdinalEncoder(categories=[['Mild','Strong']])\n",
    "X_train_cough =oe.fit_transform(X_train[['cough']])\n",
    "#also the test data\n",
    "X_test_cough =oe.fit_transform(X_test[['cough']])\n",
    "\n",
    "X_train_cough.shape"
   ]
  },
  {
   "cell_type": "code",
   "execution_count": 63,
   "id": "f4a0ebe7-aa7b-4857-ab8c-1c226a710bc1",
   "metadata": {},
   "outputs": [
    {
     "data": {
      "text/plain": [
       "array([[0.],\n",
       "       [0.],\n",
       "       [0.],\n",
       "       [0.],\n",
       "       [0.],\n",
       "       [1.],\n",
       "       [1.],\n",
       "       [0.],\n",
       "       [0.],\n",
       "       [0.],\n",
       "       [0.],\n",
       "       [0.],\n",
       "       [1.],\n",
       "       [0.],\n",
       "       [0.],\n",
       "       [0.],\n",
       "       [1.],\n",
       "       [1.],\n",
       "       [1.],\n",
       "       [0.],\n",
       "       [1.],\n",
       "       [0.],\n",
       "       [1.],\n",
       "       [1.],\n",
       "       [1.],\n",
       "       [0.],\n",
       "       [0.],\n",
       "       [0.],\n",
       "       [0.],\n",
       "       [0.],\n",
       "       [0.],\n",
       "       [1.],\n",
       "       [0.],\n",
       "       [0.],\n",
       "       [1.],\n",
       "       [1.],\n",
       "       [0.],\n",
       "       [0.],\n",
       "       [0.],\n",
       "       [0.],\n",
       "       [0.],\n",
       "       [0.],\n",
       "       [1.],\n",
       "       [0.],\n",
       "       [0.],\n",
       "       [1.],\n",
       "       [0.],\n",
       "       [1.],\n",
       "       [1.],\n",
       "       [1.],\n",
       "       [0.],\n",
       "       [0.],\n",
       "       [0.],\n",
       "       [1.],\n",
       "       [0.],\n",
       "       [0.],\n",
       "       [0.],\n",
       "       [1.],\n",
       "       [1.],\n",
       "       [0.],\n",
       "       [0.],\n",
       "       [0.],\n",
       "       [1.],\n",
       "       [0.],\n",
       "       [0.],\n",
       "       [0.],\n",
       "       [1.],\n",
       "       [0.],\n",
       "       [0.],\n",
       "       [1.],\n",
       "       [1.],\n",
       "       [0.],\n",
       "       [1.],\n",
       "       [1.],\n",
       "       [0.],\n",
       "       [0.],\n",
       "       [0.],\n",
       "       [0.],\n",
       "       [0.],\n",
       "       [1.]])"
      ]
     },
     "execution_count": 63,
     "metadata": {},
     "output_type": "execute_result"
    }
   ],
   "source": [
    "X_train_cough"
   ]
  },
  {
   "cell_type": "code",
   "execution_count": 65,
   "id": "42ebbf5d-197a-4c47-89ea-052e1dccbac4",
   "metadata": {},
   "outputs": [
    {
     "data": {
      "text/plain": [
       "(80, 4)"
      ]
     },
     "execution_count": 65,
     "metadata": {},
     "output_type": "execute_result"
    }
   ],
   "source": [
    "#OneHotencoding -> gender,city\n",
    "ohe=OneHotEncoder(drop='first',sparse_output=False)\n",
    "X_train_gender_city=ohe.fit_transform(X_train[['gender','city']])\n",
    "\n",
    "#also the test data\n",
    "X_test_gender_city=ohe.fit_transform(X_test[['gender','city']])\n",
    "\n",
    "X_train_gender_city.shape\n"
   ]
  },
  {
   "cell_type": "code",
   "execution_count": 67,
   "id": "7fcc6d51-3a92-4955-a6c4-78531deabb5c",
   "metadata": {},
   "outputs": [
    {
     "data": {
      "text/plain": [
       "array([[1., 0., 1., 0.],\n",
       "       [0., 0., 0., 0.],\n",
       "       [1., 0., 1., 0.],\n",
       "       [0., 0., 1., 0.],\n",
       "       [1., 1., 0., 0.],\n",
       "       [0., 0., 1., 0.],\n",
       "       [0., 0., 0., 1.],\n",
       "       [1., 0., 0., 0.],\n",
       "       [0., 0., 1., 0.],\n",
       "       [0., 0., 1., 0.],\n",
       "       [0., 0., 0., 0.],\n",
       "       [1., 0., 1., 0.],\n",
       "       [1., 0., 0., 0.],\n",
       "       [0., 0., 0., 0.],\n",
       "       [1., 0., 1., 0.],\n",
       "       [1., 0., 0., 0.],\n",
       "       [0., 0., 1., 0.],\n",
       "       [1., 0., 0., 1.],\n",
       "       [0., 0., 1., 0.],\n",
       "       [0., 0., 0., 0.],\n",
       "       [0., 0., 0., 0.],\n",
       "       [0., 1., 0., 0.],\n",
       "       [0., 1., 0., 0.],\n",
       "       [0., 0., 0., 1.],\n",
       "       [1., 0., 0., 0.],\n",
       "       [0., 0., 1., 0.],\n",
       "       [1., 0., 0., 0.],\n",
       "       [1., 0., 1., 0.],\n",
       "       [0., 0., 1., 0.],\n",
       "       [0., 1., 0., 0.],\n",
       "       [1., 0., 1., 0.],\n",
       "       [1., 0., 1., 0.],\n",
       "       [1., 0., 0., 0.],\n",
       "       [0., 0., 1., 0.],\n",
       "       [1., 0., 0., 0.],\n",
       "       [0., 0., 0., 0.],\n",
       "       [0., 0., 0., 0.],\n",
       "       [1., 0., 0., 0.],\n",
       "       [1., 1., 0., 0.],\n",
       "       [1., 0., 0., 1.],\n",
       "       [0., 0., 1., 0.],\n",
       "       [1., 0., 0., 0.],\n",
       "       [1., 0., 1., 0.],\n",
       "       [0., 0., 1., 0.],\n",
       "       [1., 1., 0., 0.],\n",
       "       [0., 0., 0., 1.],\n",
       "       [0., 0., 0., 1.],\n",
       "       [0., 0., 0., 0.],\n",
       "       [0., 0., 1., 0.],\n",
       "       [0., 1., 0., 0.],\n",
       "       [1., 0., 1., 0.],\n",
       "       [0., 1., 0., 0.],\n",
       "       [0., 0., 0., 1.],\n",
       "       [1., 1., 0., 0.],\n",
       "       [0., 1., 0., 0.],\n",
       "       [0., 0., 1., 0.],\n",
       "       [0., 0., 1., 0.],\n",
       "       [0., 0., 1., 0.],\n",
       "       [0., 0., 0., 0.],\n",
       "       [1., 0., 0., 1.],\n",
       "       [1., 0., 0., 0.],\n",
       "       [1., 0., 1., 0.],\n",
       "       [1., 0., 0., 0.],\n",
       "       [0., 0., 0., 0.],\n",
       "       [0., 0., 0., 0.],\n",
       "       [1., 1., 0., 0.],\n",
       "       [0., 0., 1., 0.],\n",
       "       [1., 1., 0., 0.],\n",
       "       [1., 1., 0., 0.],\n",
       "       [0., 1., 0., 0.],\n",
       "       [1., 0., 1., 0.],\n",
       "       [0., 1., 0., 0.],\n",
       "       [0., 0., 1., 0.],\n",
       "       [1., 0., 1., 0.],\n",
       "       [0., 0., 0., 1.],\n",
       "       [0., 0., 0., 0.],\n",
       "       [1., 1., 0., 0.],\n",
       "       [0., 0., 0., 1.],\n",
       "       [1., 0., 0., 1.],\n",
       "       [0., 0., 0., 0.]])"
      ]
     },
     "execution_count": 67,
     "metadata": {},
     "output_type": "execute_result"
    }
   ],
   "source": [
    "X_train_gender_city"
   ]
  },
  {
   "cell_type": "code",
   "execution_count": 69,
   "id": "4941b9d9-0259-4890-8d68-a6d5ccf33a77",
   "metadata": {},
   "outputs": [
    {
     "data": {
      "text/plain": [
       "(80, 1)"
      ]
     },
     "execution_count": 69,
     "metadata": {},
     "output_type": "execute_result"
    }
   ],
   "source": [
    "#extracting age\n",
    "X_train_age=X_train.drop(columns=['gender','fever','cough','city']).values\n",
    "# also the test data\n",
    "X_test_age = X_test.drop(columns=['gender','fever','cough','city']).values\n",
    "\n",
    "X_train_age.shape"
   ]
  },
  {
   "cell_type": "code",
   "execution_count": 71,
   "id": "eba2ddac-08ff-4994-9fc3-44907440ca0a",
   "metadata": {},
   "outputs": [
    {
     "data": {
      "text/plain": [
       "array([[83],\n",
       "       [84],\n",
       "       [27],\n",
       "       [ 6],\n",
       "       [65],\n",
       "       [25],\n",
       "       [81],\n",
       "       [72],\n",
       "       [ 5],\n",
       "       [83],\n",
       "       [12],\n",
       "       [55],\n",
       "       [14],\n",
       "       [16],\n",
       "       [60],\n",
       "       [65],\n",
       "       [51],\n",
       "       [23],\n",
       "       [10],\n",
       "       [20],\n",
       "       [19],\n",
       "       [75],\n",
       "       [33],\n",
       "       [ 5],\n",
       "       [66],\n",
       "       [50],\n",
       "       [10],\n",
       "       [82],\n",
       "       [19],\n",
       "       [80],\n",
       "       [24],\n",
       "       [71],\n",
       "       [51],\n",
       "       [17],\n",
       "       [46],\n",
       "       [42],\n",
       "       [22],\n",
       "       [64],\n",
       "       [38],\n",
       "       [74],\n",
       "       [48],\n",
       "       [73],\n",
       "       [70],\n",
       "       [ 8],\n",
       "       [19],\n",
       "       [69],\n",
       "       [65],\n",
       "       [56],\n",
       "       [71],\n",
       "       [59],\n",
       "       [51],\n",
       "       [73],\n",
       "       [19],\n",
       "       [20],\n",
       "       [49],\n",
       "       [26],\n",
       "       [31],\n",
       "       [11],\n",
       "       [49],\n",
       "       [42],\n",
       "       [80],\n",
       "       [ 5],\n",
       "       [47],\n",
       "       [18],\n",
       "       [38],\n",
       "       [42],\n",
       "       [54],\n",
       "       [27],\n",
       "       [27],\n",
       "       [75],\n",
       "       [79],\n",
       "       [64],\n",
       "       [13],\n",
       "       [34],\n",
       "       [60],\n",
       "       [64],\n",
       "       [15],\n",
       "       [81],\n",
       "       [23],\n",
       "       [47]], dtype=int64)"
      ]
     },
     "execution_count": 71,
     "metadata": {},
     "output_type": "execute_result"
    }
   ],
   "source": [
    "X_train_age"
   ]
  },
  {
   "cell_type": "code",
   "execution_count": 73,
   "id": "11e89a2d-52ce-4d04-bc69-32173046fdcf",
   "metadata": {},
   "outputs": [
    {
     "data": {
      "text/plain": [
       "(80, 7)"
      ]
     },
     "execution_count": 73,
     "metadata": {},
     "output_type": "execute_result"
    }
   ],
   "source": [
    "\n",
    "X_train_transformed = np.concatenate((X_train_age,X_train_fever,X_train_gender_city,X_train_cough),axis=1)\n",
    "# also the test data\n",
    "X_test_transformed = np.concatenate((X_test_age,X_test_fever,X_test_gender_city,X_test_cough),axis=1)\n",
    "\n",
    "X_train_transformed.shape"
   ]
  },
  {
   "cell_type": "code",
   "execution_count": 75,
   "id": "50750b20-c011-4b06-bf49-3066afa8a45b",
   "metadata": {},
   "outputs": [
    {
     "data": {
      "text/plain": [
       "array([[ 83.  , 103.  ,   1.  ,   0.  ,   1.  ,   0.  ,   0.  ],\n",
       "       [ 84.  , 100.75,   0.  ,   0.  ,   0.  ,   0.  ,   0.  ],\n",
       "       [ 27.  , 100.  ,   1.  ,   0.  ,   1.  ,   0.  ,   0.  ],\n",
       "       [  6.  , 104.  ,   0.  ,   0.  ,   1.  ,   0.  ,   0.  ],\n",
       "       [ 65.  ,  99.  ,   1.  ,   1.  ,   0.  ,   0.  ,   0.  ],\n",
       "       [ 25.  ,  99.  ,   0.  ,   0.  ,   1.  ,   0.  ,   1.  ],\n",
       "       [ 81.  ,  98.  ,   0.  ,   0.  ,   0.  ,   1.  ,   1.  ],\n",
       "       [ 72.  ,  99.  ,   1.  ,   0.  ,   0.  ,   0.  ,   0.  ],\n",
       "       [  5.  , 100.  ,   0.  ,   0.  ,   1.  ,   0.  ,   0.  ],\n",
       "       [ 83.  , 101.  ,   0.  ,   0.  ,   1.  ,   0.  ,   0.  ],\n",
       "       [ 12.  , 104.  ,   0.  ,   0.  ,   0.  ,   0.  ,   0.  ],\n",
       "       [ 55.  , 100.  ,   1.  ,   0.  ,   1.  ,   0.  ,   0.  ],\n",
       "       [ 14.  , 101.  ,   1.  ,   0.  ,   0.  ,   0.  ,   1.  ],\n",
       "       [ 16.  , 103.  ,   0.  ,   0.  ,   0.  ,   0.  ,   0.  ],\n",
       "       [ 60.  , 103.  ,   1.  ,   0.  ,   1.  ,   0.  ,   0.  ],\n",
       "       [ 65.  ,  99.  ,   1.  ,   0.  ,   0.  ,   0.  ,   0.  ],\n",
       "       [ 51.  , 101.  ,   0.  ,   0.  ,   1.  ,   0.  ,   1.  ],\n",
       "       [ 23.  ,  98.  ,   1.  ,   0.  ,   0.  ,   1.  ,   1.  ],\n",
       "       [ 10.  ,  98.  ,   0.  ,   0.  ,   1.  ,   0.  ,   1.  ],\n",
       "       [ 20.  , 101.  ,   0.  ,   0.  ,   0.  ,   0.  ,   0.  ],\n",
       "       [ 19.  , 100.  ,   0.  ,   0.  ,   0.  ,   0.  ,   1.  ],\n",
       "       [ 75.  , 100.75,   0.  ,   1.  ,   0.  ,   0.  ,   0.  ],\n",
       "       [ 33.  , 102.  ,   0.  ,   1.  ,   0.  ,   0.  ,   1.  ],\n",
       "       [  5.  ,  98.  ,   0.  ,   0.  ,   0.  ,   1.  ,   1.  ],\n",
       "       [ 66.  ,  99.  ,   1.  ,   0.  ,   0.  ,   0.  ,   1.  ],\n",
       "       [ 50.  , 103.  ,   0.  ,   0.  ,   1.  ,   0.  ,   0.  ],\n",
       "       [ 10.  , 100.  ,   1.  ,   0.  ,   0.  ,   0.  ,   0.  ],\n",
       "       [ 82.  , 100.75,   1.  ,   0.  ,   1.  ,   0.  ,   0.  ],\n",
       "       [ 19.  , 100.  ,   0.  ,   0.  ,   1.  ,   0.  ,   0.  ],\n",
       "       [ 80.  ,  98.  ,   0.  ,   1.  ,   0.  ,   0.  ,   0.  ],\n",
       "       [ 24.  ,  98.  ,   1.  ,   0.  ,   1.  ,   0.  ,   0.  ],\n",
       "       [ 71.  , 100.75,   1.  ,   0.  ,   1.  ,   0.  ,   1.  ],\n",
       "       [ 51.  , 104.  ,   1.  ,   0.  ,   0.  ,   0.  ,   0.  ],\n",
       "       [ 17.  , 104.  ,   0.  ,   0.  ,   1.  ,   0.  ,   0.  ],\n",
       "       [ 46.  , 103.  ,   1.  ,   0.  ,   0.  ,   0.  ,   1.  ],\n",
       "       [ 42.  , 100.75,   0.  ,   0.  ,   0.  ,   0.  ,   1.  ],\n",
       "       [ 22.  ,  99.  ,   0.  ,   0.  ,   0.  ,   0.  ,   0.  ],\n",
       "       [ 64.  , 102.  ,   1.  ,   0.  ,   0.  ,   0.  ,   0.  ],\n",
       "       [ 38.  , 100.75,   1.  ,   1.  ,   0.  ,   0.  ,   0.  ],\n",
       "       [ 74.  , 102.  ,   1.  ,   0.  ,   0.  ,   1.  ,   0.  ],\n",
       "       [ 48.  , 103.  ,   0.  ,   0.  ,   1.  ,   0.  ,   0.  ],\n",
       "       [ 73.  ,  98.  ,   1.  ,   0.  ,   0.  ,   0.  ,   0.  ],\n",
       "       [ 70.  , 103.  ,   1.  ,   0.  ,   1.  ,   0.  ,   1.  ],\n",
       "       [  8.  , 101.  ,   0.  ,   0.  ,   1.  ,   0.  ,   0.  ],\n",
       "       [ 19.  , 101.  ,   1.  ,   1.  ,   0.  ,   0.  ,   0.  ],\n",
       "       [ 69.  ,  98.  ,   0.  ,   0.  ,   0.  ,   1.  ,   1.  ],\n",
       "       [ 65.  , 101.  ,   0.  ,   0.  ,   0.  ,   1.  ,   0.  ],\n",
       "       [ 56.  , 104.  ,   0.  ,   0.  ,   0.  ,   0.  ,   1.  ],\n",
       "       [ 71.  ,  98.  ,   0.  ,   0.  ,   1.  ,   0.  ,   1.  ],\n",
       "       [ 59.  ,  99.  ,   0.  ,   1.  ,   0.  ,   0.  ,   1.  ],\n",
       "       [ 51.  , 104.  ,   1.  ,   0.  ,   1.  ,   0.  ,   0.  ],\n",
       "       [ 73.  , 103.  ,   0.  ,   1.  ,   0.  ,   0.  ,   0.  ],\n",
       "       [ 19.  , 101.  ,   0.  ,   0.  ,   0.  ,   1.  ,   0.  ],\n",
       "       [ 20.  , 102.  ,   1.  ,   1.  ,   0.  ,   0.  ,   1.  ],\n",
       "       [ 49.  , 101.  ,   0.  ,   1.  ,   0.  ,   0.  ,   0.  ],\n",
       "       [ 26.  ,  98.  ,   0.  ,   0.  ,   1.  ,   0.  ,   0.  ],\n",
       "       [ 31.  ,  98.  ,   0.  ,   0.  ,   1.  ,   0.  ,   0.  ],\n",
       "       [ 11.  , 100.  ,   0.  ,   0.  ,   1.  ,   0.  ,   1.  ],\n",
       "       [ 49.  ,  99.  ,   0.  ,   0.  ,   0.  ,   0.  ,   1.  ],\n",
       "       [ 42.  , 104.  ,   1.  ,   0.  ,   0.  ,   1.  ,   0.  ],\n",
       "       [ 80.  , 100.  ,   1.  ,   0.  ,   0.  ,   0.  ,   0.  ],\n",
       "       [  5.  , 102.  ,   1.  ,   0.  ,   1.  ,   0.  ,   0.  ],\n",
       "       [ 47.  , 101.  ,   1.  ,   0.  ,   0.  ,   0.  ,   1.  ],\n",
       "       [ 18.  , 104.  ,   0.  ,   0.  ,   0.  ,   0.  ,   0.  ],\n",
       "       [ 38.  , 101.  ,   0.  ,   0.  ,   0.  ,   0.  ,   0.  ],\n",
       "       [ 42.  , 101.  ,   1.  ,   1.  ,   0.  ,   0.  ,   0.  ],\n",
       "       [ 54.  , 104.  ,   0.  ,   0.  ,   1.  ,   0.  ,   1.  ],\n",
       "       [ 27.  , 100.  ,   1.  ,   1.  ,   0.  ,   0.  ,   0.  ],\n",
       "       [ 27.  , 100.  ,   1.  ,   1.  ,   0.  ,   0.  ,   0.  ],\n",
       "       [ 75.  , 104.  ,   0.  ,   1.  ,   0.  ,   0.  ,   1.  ],\n",
       "       [ 79.  , 100.75,   1.  ,   0.  ,   1.  ,   0.  ,   1.  ],\n",
       "       [ 64.  , 101.  ,   0.  ,   1.  ,   0.  ,   0.  ,   0.  ],\n",
       "       [ 13.  , 100.  ,   0.  ,   0.  ,   1.  ,   0.  ,   1.  ],\n",
       "       [ 34.  ,  98.  ,   1.  ,   0.  ,   1.  ,   0.  ,   1.  ],\n",
       "       [ 60.  ,  99.  ,   0.  ,   0.  ,   0.  ,   1.  ,   0.  ],\n",
       "       [ 64.  ,  98.  ,   0.  ,   0.  ,   0.  ,   0.  ,   0.  ],\n",
       "       [ 15.  , 101.  ,   1.  ,   1.  ,   0.  ,   0.  ,   0.  ],\n",
       "       [ 81.  , 101.  ,   0.  ,   0.  ,   0.  ,   1.  ,   0.  ],\n",
       "       [ 23.  , 100.75,   1.  ,   0.  ,   0.  ,   1.  ,   0.  ],\n",
       "       [ 47.  , 100.  ,   0.  ,   0.  ,   0.  ,   0.  ,   1.  ]])"
      ]
     },
     "execution_count": 75,
     "metadata": {},
     "output_type": "execute_result"
    }
   ],
   "source": [
    "X_train_transformed"
   ]
  },
  {
   "cell_type": "markdown",
   "id": "4344ec50-dbfa-446a-88c4-6f44d3b63d05",
   "metadata": {},
   "source": [
    "# Encode with ColumnTransformer"
   ]
  },
  {
   "cell_type": "code",
   "execution_count": 88,
   "id": "bf0b7d01-16dc-4b10-aead-645960fe949f",
   "metadata": {},
   "outputs": [],
   "source": [
    "from sklearn.compose import ColumnTransformer"
   ]
  },
  {
   "cell_type": "code",
   "execution_count": 92,
   "id": "62ba369b-069f-4d9f-ac60-a35541126395",
   "metadata": {},
   "outputs": [],
   "source": [
    "transformer=ColumnTransformer(transformers=[\n",
    "    ('tnf1',SimpleImputer(),['fever']),\n",
    "    ('tnf2',OrdinalEncoder(categories=[['Mild','Strong']]),['cough']),\n",
    "    ('tnf3',OneHotEncoder(sparse_output=False,drop='first'),['gender','city'])\n",
    "],remainder='passthrough')"
   ]
  },
  {
   "cell_type": "code",
   "execution_count": 94,
   "id": "bb1ade77-fe42-4d29-8659-dad24c23a24b",
   "metadata": {},
   "outputs": [
    {
     "data": {
      "text/plain": [
       "(80, 7)"
      ]
     },
     "execution_count": 94,
     "metadata": {},
     "output_type": "execute_result"
    }
   ],
   "source": [
    "transformer.fit_transform(X_train).shape"
   ]
  },
  {
   "cell_type": "code",
   "execution_count": 98,
   "id": "b5d90441-c176-4434-bac5-4000d07229a7",
   "metadata": {},
   "outputs": [
    {
     "data": {
      "text/plain": [
       "(20, 7)"
      ]
     },
     "execution_count": 98,
     "metadata": {},
     "output_type": "execute_result"
    }
   ],
   "source": [
    "transformer.transform(X_test).shape"
   ]
  },
  {
   "cell_type": "code",
   "execution_count": null,
   "id": "47e20a27-d6cd-466e-8526-b936fe73e369",
   "metadata": {},
   "outputs": [],
   "source": []
  }
 ],
 "metadata": {
  "kernelspec": {
   "display_name": "Python [conda env:base] *",
   "language": "python",
   "name": "conda-base-py"
  },
  "language_info": {
   "codemirror_mode": {
    "name": "ipython",
    "version": 3
   },
   "file_extension": ".py",
   "mimetype": "text/x-python",
   "name": "python",
   "nbconvert_exporter": "python",
   "pygments_lexer": "ipython3",
   "version": "3.12.7"
  }
 },
 "nbformat": 4,
 "nbformat_minor": 5
}
